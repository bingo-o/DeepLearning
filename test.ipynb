{
  "nbformat": 4,
  "nbformat_minor": 0,
  "metadata": {
    "colab": {
      "name": "test.ipynb",
      "provenance": [],
      "authorship_tag": "ABX9TyMXC5MAwzpwo2yLjS5CxO3Q",
      "include_colab_link": true
    },
    "kernelspec": {
      "name": "python3",
      "display_name": "Python 3"
    },
    "language_info": {
      "name": "python"
    },
    "accelerator": "GPU"
  },
  "cells": [
    {
      "cell_type": "markdown",
      "metadata": {
        "id": "view-in-github",
        "colab_type": "text"
      },
      "source": [
        "<a href=\"https://colab.research.google.com/github/bingo-o/DeepLearning/blob/master/test.ipynb\" target=\"_parent\"><img src=\"https://colab.research.google.com/assets/colab-badge.svg\" alt=\"Open In Colab\"/></a>"
      ]
    },
    {
      "cell_type": "markdown",
      "metadata": {
        "id": "b0jvLeCisQQa"
      },
      "source": [
        "### 查看GPU使用情况"
      ]
    },
    {
      "cell_type": "code",
      "metadata": {
        "colab": {
          "base_uri": "https://localhost:8080/"
        },
        "id": "kcUH7XVlsHc8",
        "outputId": "1e105c59-492f-4b8a-aaaa-6e830a4c4ad1"
      },
      "source": [
        "!nvidia-smi"
      ],
      "execution_count": null,
      "outputs": [
        {
          "output_type": "stream",
          "name": "stdout",
          "text": [
            "Thu Nov 18 06:16:34 2021       \n",
            "+-----------------------------------------------------------------------------+\n",
            "| NVIDIA-SMI 495.44       Driver Version: 460.32.03    CUDA Version: 11.2     |\n",
            "|-------------------------------+----------------------+----------------------+\n",
            "| GPU  Name        Persistence-M| Bus-Id        Disp.A | Volatile Uncorr. ECC |\n",
            "| Fan  Temp  Perf  Pwr:Usage/Cap|         Memory-Usage | GPU-Util  Compute M. |\n",
            "|                               |                      |               MIG M. |\n",
            "|===============================+======================+======================|\n",
            "|   0  Tesla K80           Off  | 00000000:00:04.0 Off |                    0 |\n",
            "| N/A   73C    P0    76W / 149W |    600MiB / 11441MiB |      0%      Default |\n",
            "|                               |                      |                  N/A |\n",
            "+-------------------------------+----------------------+----------------------+\n",
            "                                                                               \n",
            "+-----------------------------------------------------------------------------+\n",
            "| Processes:                                                                  |\n",
            "|  GPU   GI   CI        PID   Type   Process name                  GPU Memory |\n",
            "|        ID   ID                                                   Usage      |\n",
            "|=============================================================================|\n",
            "|  No running processes found                                                 |\n",
            "+-----------------------------------------------------------------------------+\n"
          ]
        }
      ]
    },
    {
      "cell_type": "markdown",
      "metadata": {
        "id": "6OkBoSvurwgl"
      },
      "source": [
        "### 测试Tensorflow"
      ]
    },
    {
      "cell_type": "code",
      "metadata": {
        "id": "uA4U15IjQlow"
      },
      "source": [
        "import tensorflow as tf"
      ],
      "execution_count": null,
      "outputs": []
    },
    {
      "cell_type": "code",
      "metadata": {
        "colab": {
          "base_uri": "https://localhost:8080/",
          "height": 36
        },
        "id": "Aaw4KP1dQ7nS",
        "outputId": "ce8abaf0-1716-4fca-df9f-26507eb05c60"
      },
      "source": [
        "tf.test.gpu_device_name()"
      ],
      "execution_count": null,
      "outputs": [
        {
          "output_type": "execute_result",
          "data": {
            "application/vnd.google.colaboratory.intrinsic+json": {
              "type": "string"
            },
            "text/plain": [
              "'/device:GPU:0'"
            ]
          },
          "metadata": {},
          "execution_count": 3
        }
      ]
    },
    {
      "cell_type": "markdown",
      "metadata": {
        "id": "WYV2n2iKsbMH"
      },
      "source": [
        "### 测试Pytorch"
      ]
    },
    {
      "cell_type": "code",
      "metadata": {
        "id": "yTPD8hTyRFHR"
      },
      "source": [
        "import torch"
      ],
      "execution_count": null,
      "outputs": []
    },
    {
      "cell_type": "code",
      "metadata": {
        "colab": {
          "base_uri": "https://localhost:8080/"
        },
        "id": "8WiLPGtpRUEh",
        "outputId": "b469e850-9b4c-41e5-b089-5c07b862bc00"
      },
      "source": [
        "torch.cuda.is_available()"
      ],
      "execution_count": null,
      "outputs": [
        {
          "output_type": "execute_result",
          "data": {
            "text/plain": [
              "True"
            ]
          },
          "metadata": {},
          "execution_count": 6
        }
      ]
    },
    {
      "cell_type": "markdown",
      "metadata": {
        "id": "_ZvKGfy9sfev"
      },
      "source": [
        "### 用Pytorch实现线性回归"
      ]
    },
    {
      "cell_type": "code",
      "metadata": {
        "colab": {
          "base_uri": "https://localhost:8080/",
          "height": 1000
        },
        "id": "KVO7xW50Rfqa",
        "outputId": "f01e704e-793b-46be-a6fc-e53834f85c96"
      },
      "source": [
        "import torch\n",
        "from torch import optim, nn\n",
        "import numpy as np\n",
        "import matplotlib.pyplot as plt\n",
        "\n",
        "x_train = np.array([[3.3], [4.4], [5.5], [6.71], [6.93], [4.168],\n",
        "                    [9.779], [6.182], [7.59], [2.167], [7.042],\n",
        "                    [10.791], [5.313], [7.997], [3.1]], dtype=np.float32)\n",
        "\n",
        "y_train = np.array([[1.7], [2.76], [2.09], [3.19], [1.694], [1.573],\n",
        "                    [3.366], [2.596], [2.53], [1.221], [2.827],\n",
        "                    [3.465], [1.65], [2.904], [1.3]], dtype=np.float32)\n",
        "\n",
        "x_train = torch.from_numpy(x_train)\n",
        "y_train = torch.from_numpy(y_train)\n",
        "\n",
        "\n",
        "class LinearRegression(nn.Module):\n",
        "    def __init__(self):\n",
        "        super(LinearRegression, self).__init__()\n",
        "        self.linear = nn.Linear(1, 1)\n",
        "\n",
        "    def forward(self, x):\n",
        "        out = self.linear(x)\n",
        "        return out\n",
        "\n",
        "\n",
        "model = LinearRegression()\n",
        "\n",
        "criterion = nn.MSELoss()\n",
        "optimizer = optim.SGD(model.parameters(), lr=1e-4)\n",
        "\n",
        "num_epochs = 1000\n",
        "\n",
        "for epoch in range(num_epochs):\n",
        "    out = model(x_train)\n",
        "    loss = criterion(out, y_train)\n",
        "    optimizer.zero_grad()\n",
        "    loss.backward()\n",
        "    optimizer.step()\n",
        "    if (epoch + 1) % 20 == 0:\n",
        "        print(\"epoch[{} / {}], loss: {:.3f}\".format(epoch + 1, num_epochs, loss.item()))\n",
        "\n",
        "with torch.no_grad():\n",
        "    y_predict = model(x_train)\n",
        "\n",
        "plt.plot(x_train.numpy(), y_train.numpy(), \"ro\", label=\"Original data\")\n",
        "plt.plot(x_train.numpy(), y_predict.data.numpy(), label=\"Fitting line\")\n",
        "plt.legend()\n",
        "plt.show()"
      ],
      "execution_count": null,
      "outputs": [
        {
          "output_type": "stream",
          "name": "stdout",
          "text": [
            "epoch[20 / 1000], loss: 15.339\n",
            "epoch[40 / 1000], loss: 10.892\n",
            "epoch[60 / 1000], loss: 7.749\n",
            "epoch[80 / 1000], loss: 5.528\n",
            "epoch[100 / 1000], loss: 3.958\n",
            "epoch[120 / 1000], loss: 2.849\n",
            "epoch[140 / 1000], loss: 2.065\n",
            "epoch[160 / 1000], loss: 1.510\n",
            "epoch[180 / 1000], loss: 1.119\n",
            "epoch[200 / 1000], loss: 0.842\n",
            "epoch[220 / 1000], loss: 0.646\n",
            "epoch[240 / 1000], loss: 0.508\n",
            "epoch[260 / 1000], loss: 0.410\n",
            "epoch[280 / 1000], loss: 0.341\n",
            "epoch[300 / 1000], loss: 0.292\n",
            "epoch[320 / 1000], loss: 0.258\n",
            "epoch[340 / 1000], loss: 0.234\n",
            "epoch[360 / 1000], loss: 0.216\n",
            "epoch[380 / 1000], loss: 0.204\n",
            "epoch[400 / 1000], loss: 0.196\n",
            "epoch[420 / 1000], loss: 0.189\n",
            "epoch[440 / 1000], loss: 0.185\n",
            "epoch[460 / 1000], loss: 0.182\n",
            "epoch[480 / 1000], loss: 0.180\n",
            "epoch[500 / 1000], loss: 0.178\n",
            "epoch[520 / 1000], loss: 0.177\n",
            "epoch[540 / 1000], loss: 0.177\n",
            "epoch[560 / 1000], loss: 0.176\n",
            "epoch[580 / 1000], loss: 0.176\n",
            "epoch[600 / 1000], loss: 0.175\n",
            "epoch[620 / 1000], loss: 0.175\n",
            "epoch[640 / 1000], loss: 0.175\n",
            "epoch[660 / 1000], loss: 0.175\n",
            "epoch[680 / 1000], loss: 0.175\n",
            "epoch[700 / 1000], loss: 0.175\n",
            "epoch[720 / 1000], loss: 0.175\n",
            "epoch[740 / 1000], loss: 0.175\n",
            "epoch[760 / 1000], loss: 0.175\n",
            "epoch[780 / 1000], loss: 0.175\n",
            "epoch[800 / 1000], loss: 0.175\n",
            "epoch[820 / 1000], loss: 0.175\n",
            "epoch[840 / 1000], loss: 0.175\n",
            "epoch[860 / 1000], loss: 0.175\n",
            "epoch[880 / 1000], loss: 0.175\n",
            "epoch[900 / 1000], loss: 0.175\n",
            "epoch[920 / 1000], loss: 0.175\n",
            "epoch[940 / 1000], loss: 0.175\n",
            "epoch[960 / 1000], loss: 0.175\n",
            "epoch[980 / 1000], loss: 0.175\n",
            "epoch[1000 / 1000], loss: 0.175\n"
          ]
        },
        {
          "output_type": "display_data",
          "data": {
            "image/png": "[encoded data removed]",
            "text/plain": [
              "<Figure size 432x288 with 1 Axes>"
            ]
          },
          "metadata": {
            "needs_background": "light"
          }
        }
      ]
    },
    {
      "cell_type": "code",
      "metadata": {
        "id": "F7JYFdubrJLO"
      },
      "source": [
        ""
      ],
      "execution_count": null,
      "outputs": []
    }
  ]
}